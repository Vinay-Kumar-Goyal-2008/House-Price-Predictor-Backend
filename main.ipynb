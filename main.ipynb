{
 "cells": [
  {
   "cell_type": "code",
   "execution_count": 1,
   "id": "d611cc9c",
   "metadata": {},
   "outputs": [],
   "source": [
    "import pandas as pd\n",
    "import numpy as np\n",
    "from sklearn.model_selection import train_test_split\n",
    "from sklearn.ensemble import RandomForestRegressor\n",
    "import pickle\n",
    "df=pd.read_csv('train.csv')\n",
    "l=[\"GrLivArea\", \"TotalBsmtSF\", \"1stFlrSF\", \"YearBuilt\", \"YearRemodAdd\",\"SalePrice\"]\n",
    "df=df.loc[:,l]\n",
    "\n",
    "for i in l:\n",
    "    IQR=df[i].quantile(0.75)-df[i].quantile(0.25)\n",
    "    q1=df[i].quantile(0.25)\n",
    "    q2=df[i].quantile(0.75)\n",
    "    df=df[(df[i]>=(q1-1.5*IQR)) & (df[i]<=(q2+1.5*IQR))]\n",
    "x=df.iloc[:,:-1]\n",
    "y=np.log1p(df['SalePrice'])\n",
    "xtrain,xtest,ytrain,ytest=train_test_split(x,y,test_size=0.1,random_state=15)\n",
    "dtc=RandomForestRegressor(criterion='absolute_error',max_features='sqrt')\n",
    "dtc.fit(xtrain,ytrain)\n",
    "with open('model.pkl','wb') as f:\n",
    "    pickle.dump(dtc,f)\n"
   ]
  },
  {
   "cell_type": "code",
   "execution_count": null,
   "id": "9bb93133",
   "metadata": {},
   "outputs": [],
   "source": []
  }
 ],
 "metadata": {
  "kernelspec": {
   "display_name": "base",
   "language": "python",
   "name": "python3"
  },
  "language_info": {
   "codemirror_mode": {
    "name": "ipython",
    "version": 3
   },
   "file_extension": ".py",
   "mimetype": "text/x-python",
   "name": "python",
   "nbconvert_exporter": "python",
   "pygments_lexer": "ipython3",
   "version": "3.12.7"
  }
 },
 "nbformat": 4,
 "nbformat_minor": 5
}
